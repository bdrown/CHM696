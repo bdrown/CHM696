{
 "cells": [
  {
   "cell_type": "markdown",
   "metadata": {},
   "source": [
    "# Accessing Scholar\n",
    "\n",
    "## About compute clusters at Purdue\n",
    "Scholar is a compute cluster that designed for use in classes like ours. It is configured in much the same ways as other community compute clusters maintained by RCAC at Purdue. Currently (Spring 2024) there are several clusters used for research:\n",
    " - Negishi - Cluster built in 2022 that is focused on CPU-only calculations. Cluster access is possible by purchasing nodes.\n",
    " - Gilbreth - Cluster built in that is focused on GPU-enabled applications like machine learning. Cluster access is possible by purchasing nodes.\n",
    " - Anvil - Massive cluster built in NSF-funded project. Cluster access is controlled through [ACCESS](https://access-ci.org/).\n",
    "More info about compute clusters at Purdue is available at [RCAC's website](https://www.rcac.purdue.edu/compute).\n",
    "\n",
    "## Accessing Scholar via ThinLinc\n",
    "If you want a desktop environment, point a web browser to `desktop.scholar.rcac.purdue.edu`. You will be prompted for a username and password. Note that you will need to use your BoilerKey rather than Career Account password and use two-factor authentication.\n",
    "\n",
    "## Accessing Scholar via SSH\n"
   ]
  },
  {
   "cell_type": "markdown",
   "metadata": {},
   "source": [
    "# Fix Missing Loops\n",
    "You will notice that there are some disordered regions of the crystal structure that resulted in missing loops (indicated by dashed lines). There are many methods for modeling missing structures, but we will run [Modeller](https://salilab.org/modeller/) directly through Chimera. To fix the missing sections, go to Tools -> Surface Editing -> Model/Refine Loops. Two dialogue boxes will appear"
   ]
  },
  {
   "cell_type": "markdown",
   "metadata": {},
   "source": [
    "# Creating the Protein Binding Site Surface\n",
    "\n",
    "## Create DMS file\n",
    "In Chimera, open the 2ITO_protein_only.pdb file. Go to Actions -> Surface -> Show.\n",
    "\n",
    "Generate the .dms file by selecting Tools -> Structure Editing -> Write DMS. A dialogue box will appear and you should provide a reasonable filename, such as `2ITO_surface.dms`. Once this file is daved, make sure the surface was created correctly. Close the current session in Chimera, open `2ITO_protein_only.pdb` and then open `2ITO_surface.dms`. The small dots (which is the .dms file) should be aligned over the protein structure.\n",
    "\n",
    "## Generate Spheres for the Binding Site\n",
    "Now that a .dms file has been generated, the binding site of the protein is found using a DOCK program called `sphgen`. This program is run on the command line on Scholar. In order for it to run properly, one needs to scp the .dms file to the 02_surface_spheres directory using the command:"
   ]
  },
  {
   "cell_type": "code",
   "execution_count": null,
   "metadata": {
    "vscode": {
     "languageId": "shellscript"
    }
   },
   "outputs": [],
   "source": [
    "scp 2ITO_surface.dms username@scholar.rcac.purdue.edu:"
   ]
  },
  {
   "cell_type": "markdown",
   "metadata": {},
   "source": [
    "![Running Modeller](images/running_modeller.png)"
   ]
  }
 ],
 "metadata": {
  "language_info": {
   "name": "python"
  }
 },
 "nbformat": 4,
 "nbformat_minor": 2
}
